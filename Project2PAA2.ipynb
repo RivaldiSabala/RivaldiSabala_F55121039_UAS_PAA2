{
  "nbformat": 4,
  "nbformat_minor": 0,
  "metadata": {
    "colab": {
      "provenance": []
    },
    "kernelspec": {
      "name": "python3",
      "display_name": "Python 3"
    },
    "language_info": {
      "name": "python"
    }
  },
  "cells": [
    {
      "cell_type": "markdown",
      "source": [
        "RIVALDI SABALA\n",
        "\n",
        "F55121039\n",
        "\n",
        "KELAS B\n",
        "\n",
        "\n",
        "## **UAS PAA II**\n",
        "\n",
        "---\n",
        "\n",
        "\n",
        "\n"
      ],
      "metadata": {
        "id": "u6mt4oJC8WQt"
      }
    },
    {
      "cell_type": "code",
      "execution_count": 1,
      "metadata": {
        "id": "3pSbPLSj4F3D"
      },
      "outputs": [],
      "source": [
        "import time"
      ]
    },
    {
      "cell_type": "code",
      "source": [
        "# Fungsi untuk menghitung shortest path menggunakan algoritma TSP\n",
        "def tsp_algorithm(graph, start_vertex):\n",
        "    num_vertices = len(graph)\n",
        "    vertex_set = set(range(num_vertices))\n",
        "    memo = {}\n",
        "\n",
        "    # Rekursif dengan memoization\n",
        "    def tsp_helper(curr_vertex, vertex_set):\n",
        "        # Base case\n",
        "        if len(vertex_set) == 1:\n",
        "            return graph[curr_vertex][start_vertex]\n",
        "\n",
        "        # Mengecek memoization\n",
        "        memo_key = (curr_vertex, tuple(vertex_set))\n",
        "        if memo_key in memo:\n",
        "            return memo[memo_key]\n",
        "\n",
        "        min_distance = float('inf')\n",
        "        for next_vertex in vertex_set:\n",
        "            if next_vertex == start_vertex or next_vertex == curr_vertex:\n",
        "                continue\n",
        "            distance = graph[curr_vertex][next_vertex] + tsp_helper(next_vertex, vertex_set - {next_vertex})\n",
        "            min_distance = min(min_distance, distance)\n",
        "\n",
        "        # Menyimpan hasil ke dalam memo\n",
        "        memo[memo_key] = min_distance\n",
        "        return min_distance\n",
        "\n",
        "    # Panggil fungsi rekursif\n",
        "    shortest_path = tsp_helper(start_vertex, vertex_set)\n",
        "    return shortest_path"
      ],
      "metadata": {
        "id": "t7YYjVnY4Kv5"
      },
      "execution_count": 7,
      "outputs": []
    },
    {
      "cell_type": "code",
      "source": [
        "# Fungsi untuk menghitung shortest path menggunakan algoritma Dijkstra\n",
        "def dijkstra_algorithm(graph, start_vertex):\n",
        "    num_vertices = len(graph)\n",
        "    dist = [float('inf')] * num_vertices\n",
        "    dist[start_vertex] = 0\n",
        "    visited = [False] * num_vertices\n",
        "\n",
        "    # Proses iteratif untuk mencari shortest path\n",
        "    for _ in range(num_vertices):\n",
        "        min_dist = float('inf')\n",
        "        min_vertex = -1\n",
        "\n",
        "        # Mencari vertex dengan jarak terpendek\n",
        "        for v in range(num_vertices):\n",
        "            if not visited[v] and dist[v] < min_dist:\n",
        "                min_dist = dist[v]\n",
        "                min_vertex = v\n",
        "\n",
        "        visited[min_vertex] = True\n",
        "\n",
        "        # Update jarak terpendek untuk tetangga yang belum dikunjungi\n",
        "        for v in range(num_vertices):\n",
        "            if not visited[v] and graph[min_vertex][v] > 0:\n",
        "                new_dist = dist[min_vertex] + graph[min_vertex][v]\n",
        "                if new_dist < dist[v]:\n",
        "                    dist[v] = new_dist\n",
        "\n",
        "    shortest_path = dist\n",
        "    return shortest_path\n"
      ],
      "metadata": {
        "id": "DimHNg9v6Aus"
      },
      "execution_count": 8,
      "outputs": []
    },
    {
      "cell_type": "code",
      "source": [
        "# Fungsi untuk mengambil input graf dari pengguna\n",
        "def get_graph_from_user():\n",
        "    num_vertices = int(input(\"Masukkan jumlah vertex dalam graf: \"))\n",
        "    graph = []\n",
        "    for i in range(num_vertices):\n",
        "        row = list(map(int, input(f\"Masukkan baris ke-{i+1} dari graf (pisahkan dengan spasi): \").split()))\n",
        "        graph.append(row)\n",
        "    return graph"
      ],
      "metadata": {
        "id": "5Fiz6bh96HTM"
      },
      "execution_count": 9,
      "outputs": []
    },
    {
      "cell_type": "code",
      "source": [
        "# Fungsi utama\n",
        "def main():\n",
        "    print(\"=================================\")\n",
        "    print(\"=        Rivaldi Sabala         =\")\n",
        "    print(\"=          F55121039            =\")\n",
        "    print(\"=           Kelas B             =\")\n",
        "    print(\"=================================\")\n",
        "    print(\"\\n\\nProgram Perhitungan Shortest Path\")\n",
        "\n",
        "    while True:\n",
        "        print(\"==========================================\")\n",
        "        print(\"= Pilihan:                               =\")\n",
        "        print(\"==========================================\")\n",
        "        print(\"= 1. = Travelling Salesman Problem (TSP) =\")\n",
        "        print(\"= 2. = Dijkstra                          =\")\n",
        "        print(\"= 0. = Keluar                            =\")\n",
        "        print(\"==========================================\")\n",
        "        choice = int(input(\"Masukkan pilihan Anda: \"))\n",
        "\n",
        "        if choice == 1:\n",
        "            print(\"\\n--- Travelling Salesman Problem (TSP) ---\")\n",
        "            graph = get_graph_from_user()\n",
        "\n",
        "            start_time = time.time()\n",
        "            shortest_path = tsp_algorithm(graph, 0)\n",
        "            end_time = time.time()\n",
        "\n",
        "            print(\"\\nHasil:\")\n",
        "            print(\"Jalur terpendek: \", shortest_path)\n",
        "            print(\"Waktu komputasi: \", end_time - start_time, \"detik\")\n",
        "\n",
        "        elif choice == 2:\n",
        "            print(\"\\n--- Dijkstra ---\")\n",
        "            graph = get_graph_from_user()\n",
        "\n",
        "            start_vertex = int(input(\"Masukkan vertex awal: \"))\n",
        "\n",
        "            start_time = time.time()\n",
        "            shortest_path = dijkstra_algorithm(graph, start_vertex)\n",
        "            end_time = time.time()\n",
        "\n",
        "            print(\"\\nHasil:\")\n",
        "            print(\"Jarak terpendek dari vertex awal:\")\n",
        "            for i in range(len(shortest_path)):\n",
        "                print(f\"Vertex {i}: {shortest_path[i]}\")\n",
        "            print(\"Waktu komputasi: \", end_time - start_time, \"detik\")\n",
        "\n",
        "        elif choice == 0:\n",
        "            print(\"Terima kasih telah menggunakan program ini!\")\n",
        "            break\n",
        "\n",
        "        else:\n",
        "            print(\"Pilihan tidak valid. Silakan coba lagi.\")\n",
        "\n",
        "\n",
        "if __name__ == '__main__':\n",
        "    main()"
      ],
      "metadata": {
        "id": "TzqUQppx6Occ"
      },
      "execution_count": null,
      "outputs": []
    }
  ]
}